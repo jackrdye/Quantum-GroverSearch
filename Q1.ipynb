{
  "nbformat": 4,
  "nbformat_minor": 0,
  "metadata": {
    "colab": {
      "provenance": []
    },
    "kernelspec": {
      "name": "python3",
      "display_name": "Python 3"
    },
    "language_info": {
      "name": "python"
    }
  },
  "cells": [
    {
      "cell_type": "code",
      "execution_count": null,
      "metadata": {
        "id": "c81wUHVRC5Hc"
      },
      "outputs": [],
      "source": [
        "!pip install qiskit\n",
        "from qiskit import QuantumCircuit, QuantumRegister"
      ]
    },
    {
      "cell_type": "code",
      "source": [
        "from qiskit import Aer, transpile, assemble\n",
        "from qiskit.visualization import plot_histogram"
      ],
      "metadata": {
        "id": "-Lz8VdJF5ZGu"
      },
      "execution_count": 3,
      "outputs": []
    },
    {
      "cell_type": "code",
      "source": [
        "def initialise(qc, qubits):\n",
        "    for q in qubits:\n",
        "        qc.h(q)\n",
        "    return qc"
      ],
      "metadata": {
        "id": "RmyOVQH0C-9R"
      },
      "execution_count": 4,
      "outputs": []
    },
    {
      "cell_type": "code",
      "source": [
        "def oracle1() -> QuantumCircuit:\n",
        "    \"\"\"Oracle 1 for assignment 3 Q1 (a).\n",
        "    1 solution of 8 items.\n",
        "\n",
        "    Returns:\n",
        "        Oracle circuit.\n",
        "    \"\"\"\n",
        "    data_reg = QuantumRegister(3)\n",
        "    ancilla = QuantumRegister(1)\n",
        "    circuit = QuantumCircuit(data_reg, ancilla, name='Oracle1')\n",
        "    \n",
        "    circuit.x(data_reg[1])\n",
        "    circuit.mcx(data_reg, ancilla)\n",
        "    circuit.x(data_reg[1])\n",
        "    return circuit"
      ],
      "metadata": {
        "id": "eioBHDN8C8Dj"
      },
      "execution_count": 5,
      "outputs": []
    },
    {
      "cell_type": "code",
      "source": [
        "def oracle2() -> QuantumCircuit:\n",
        "    \"\"\"Oracle 2 for assignment 3 Q1 (b)\n",
        "    2 solutions of 8 items.\n",
        "\n",
        "    Returns:\n",
        "        Oracle circuit.\n",
        "    \"\"\"\n",
        "    data_reg = QuantumRegister(3)\n",
        "    ancilla = QuantumRegister(1)\n",
        "    circuit = QuantumCircuit(data_reg, ancilla, name='Oracle2')\n",
        "    \n",
        "    circuit.x(data_reg[1])\n",
        "    circuit.mcx(data_reg, ancilla)\n",
        "    circuit.x(data_reg[1])\n",
        "    circuit.x(data_reg[0])\n",
        "    circuit.mcx(data_reg, ancilla)\n",
        "    circuit.x(data_reg[0])\n",
        "    return circuit"
      ],
      "metadata": {
        "id": "l5gpX0FwC-3D"
      },
      "execution_count": 6,
      "outputs": []
    },
    {
      "cell_type": "markdown",
      "source": [
        "#Q1 a"
      ],
      "metadata": {
        "id": "XRXY1EekDMow"
      }
    },
    {
      "cell_type": "code",
      "source": [
        "# Initialise\n",
        "n = 3\n",
        "grover_circuit = QuantumCircuit(QuantumRegister(n), QuantumRegister(1))\n",
        "# initialise 1st register to + state\n",
        "grover_circuit = initialise(grover_circuit, [0, 1, 2])\n",
        "\n",
        "# INITIALISE ANCILLA TO MINUS STATE\n",
        "grover_circuit.x(3)\n",
        "grover_circuit.h(3)\n",
        "\n",
        "grover_circuit.barrier()\n",
        "grover_circuit.draw()"
      ],
      "metadata": {
        "id": "hCM2IRCEDIXR"
      },
      "execution_count": null,
      "outputs": []
    },
    {
      "cell_type": "code",
      "source": [
        "# Oracle\n",
        "oracle = oracle1()\n",
        "oracle.barrier()\n",
        "oracle.draw()"
      ],
      "metadata": {
        "colab": {
          "base_uri": "https://localhost:8080/",
          "height": 156
        },
        "id": "SBNBBDyPdoq-",
        "outputId": "64dd5e48-e865-4f2b-9d5c-115171b27af3"
      },
      "execution_count": 8,
      "outputs": [
        {
          "output_type": "execute_result",
          "data": {
            "text/plain": [
              "                      ░ \n",
              "q2_0: ───────■────────░─\n",
              "      ┌───┐  │  ┌───┐ ░ \n",
              "q2_1: ┤ X ├──■──┤ X ├─░─\n",
              "      └───┘  │  └───┘ ░ \n",
              "q2_2: ───────■────────░─\n",
              "           ┌─┴─┐      ░ \n",
              "  q3: ─────┤ X ├──────░─\n",
              "           └───┘      ░ "
            ],
            "text/html": [
              "<pre style=\"word-wrap: normal;white-space: pre;background: #fff0;line-height: 1.1;font-family: &quot;Courier New&quot;,Courier,monospace\">                      ░ \n",
              "q2_0: ───────■────────░─\n",
              "      ┌───┐  │  ┌───┐ ░ \n",
              "q2_1: ┤ X ├──■──┤ X ├─░─\n",
              "      └───┘  │  └───┘ ░ \n",
              "q2_2: ───────■────────░─\n",
              "           ┌─┴─┐      ░ \n",
              "  q3: ─────┤ X ├──────░─\n",
              "           └───┘      ░ </pre>"
            ]
          },
          "metadata": {},
          "execution_count": 8
        }
      ]
    },
    {
      "cell_type": "code",
      "source": [
        "# Diffusion\n",
        "dif = QuantumCircuit(QuantumRegister(n), QuantumRegister(1))\n",
        "dif.h([0, 1, 2])\n",
        "dif.x([0, 1, 2])\n",
        "# multi-controlled z\n",
        "dif.h(2)\n",
        "dif.mct([0, 1], 2)\n",
        "dif.h(2)\n",
        "dif.barrier()\n",
        "dif.x([0, 1, 2])\n",
        "dif.h([0, 1, 2])\n",
        "dif.draw()\n",
        "\n"
      ],
      "metadata": {
        "colab": {
          "base_uri": "https://localhost:8080/",
          "height": 156
        },
        "id": "flWn24zUzF_K",
        "outputId": "9c5264ce-ae8e-45de-a21a-eeab9a6c035d"
      },
      "execution_count": 9,
      "outputs": [
        {
          "output_type": "execute_result",
          "data": {
            "text/plain": [
              "      ┌───┐┌───┐                ░ ┌───┐┌───┐\n",
              "q4_0: ┤ H ├┤ X ├───────■────────░─┤ X ├┤ H ├\n",
              "      ├───┤├───┤       │        ░ ├───┤├───┤\n",
              "q4_1: ┤ H ├┤ X ├───────■────────░─┤ X ├┤ H ├\n",
              "      ├───┤├───┤┌───┐┌─┴─┐┌───┐ ░ ├───┤├───┤\n",
              "q4_2: ┤ H ├┤ X ├┤ H ├┤ X ├┤ H ├─░─┤ X ├┤ H ├\n",
              "      └───┘└───┘└───┘└───┘└───┘ ░ └───┘└───┘\n",
              "  q5: ──────────────────────────░───────────\n",
              "                                ░           "
            ],
            "text/html": [
              "<pre style=\"word-wrap: normal;white-space: pre;background: #fff0;line-height: 1.1;font-family: &quot;Courier New&quot;,Courier,monospace\">      ┌───┐┌───┐                ░ ┌───┐┌───┐\n",
              "q4_0: ┤ H ├┤ X ├───────■────────░─┤ X ├┤ H ├\n",
              "      ├───┤├───┤       │        ░ ├───┤├───┤\n",
              "q4_1: ┤ H ├┤ X ├───────■────────░─┤ X ├┤ H ├\n",
              "      ├───┤├───┤┌───┐┌─┴─┐┌───┐ ░ ├───┤├───┤\n",
              "q4_2: ┤ H ├┤ X ├┤ H ├┤ X ├┤ H ├─░─┤ X ├┤ H ├\n",
              "      └───┘└───┘└───┘└───┘└───┘ ░ └───┘└───┘\n",
              "  q5: ──────────────────────────░───────────\n",
              "                                ░           </pre>"
            ]
          },
          "metadata": {},
          "execution_count": 9
        }
      ]
    },
    {
      "cell_type": "code",
      "source": [
        "# Add parts together\n",
        "grover_circuit = grover_circuit.compose(oracle)\n",
        "grover_circuit = grover_circuit.compose(dif)\n",
        "# Apply again to improve results\n",
        "grover_circuit = grover_circuit.compose(oracle)\n",
        "grover_circuit = grover_circuit.compose(dif)\n",
        "# and again :)\n",
        "# grover_circuit = grover_circuit.compose(oracle)\n",
        "# grover_circuit = grover_circuit.compose(dif)\n",
        "# grover_circuit = grover_circuit.compose(oracle)\n",
        "# grover_circuit = grover_circuit.compose(dif)\n",
        "# grover_circuit = grover_circuit.compose(oracle)\n",
        "# grover_circuit = grover_circuit.compose(dif)\n",
        "grover_circuit.draw()"
      ],
      "metadata": {
        "id": "tv_lDBz2dxG5"
      },
      "execution_count": null,
      "outputs": []
    },
    {
      "cell_type": "code",
      "source": [
        "# Convert ancilla to computational basis for measurement\n",
        "grover_circuit.barrier()\n",
        "grover_circuit.h(3)\n",
        "grover_circuit.x(3)\n",
        "grover_circuit.draw()"
      ],
      "metadata": {
        "colab": {
          "base_uri": "https://localhost:8080/",
          "height": 294
        },
        "id": "ZrauutdF6_QX",
        "outputId": "879740c3-0907-4ea5-efd4-24df8703ddae"
      },
      "execution_count": 11,
      "outputs": [
        {
          "output_type": "execute_result",
          "data": {
            "text/plain": [
              "      ┌───┐      ░                 ░ ┌───┐┌───┐                ░ ┌───┐┌───┐»\n",
              "q0_0: ┤ H ├──────░────────■────────░─┤ H ├┤ X ├───────■────────░─┤ X ├┤ H ├»\n",
              "      ├───┤      ░ ┌───┐  │  ┌───┐ ░ ├───┤├───┤       │        ░ ├───┤├───┤»\n",
              "q0_1: ┤ H ├──────░─┤ X ├──■──┤ X ├─░─┤ H ├┤ X ├───────■────────░─┤ X ├┤ H ├»\n",
              "      ├───┤      ░ └───┘  │  └───┘ ░ ├───┤├───┤┌───┐┌─┴─┐┌───┐ ░ ├───┤├───┤»\n",
              "q0_2: ┤ H ├──────░────────■────────░─┤ H ├┤ X ├┤ H ├┤ X ├┤ H ├─░─┤ X ├┤ H ├»\n",
              "      ├───┤┌───┐ ░      ┌─┴─┐      ░ └───┘└───┘└───┘└───┘└───┘ ░ └───┘└───┘»\n",
              "  q1: ┤ X ├┤ H ├─░──────┤ X ├──────░───────────────────────────░───────────»\n",
              "      └───┘└───┘ ░      └───┘      ░                           ░           »\n",
              "«                      ░ ┌───┐┌───┐                ░ ┌───┐┌───┐ ░           \n",
              "«q0_0: ───────■────────░─┤ H ├┤ X ├───────■────────░─┤ X ├┤ H ├─░───────────\n",
              "«      ┌───┐  │  ┌───┐ ░ ├───┤├───┤       │        ░ ├───┤├───┤ ░           \n",
              "«q0_1: ┤ X ├──■──┤ X ├─░─┤ H ├┤ X ├───────■────────░─┤ X ├┤ H ├─░───────────\n",
              "«      └───┘  │  └───┘ ░ ├───┤├───┤┌───┐┌─┴─┐┌───┐ ░ ├───┤├───┤ ░           \n",
              "«q0_2: ───────■────────░─┤ H ├┤ X ├┤ H ├┤ X ├┤ H ├─░─┤ X ├┤ H ├─░───────────\n",
              "«           ┌─┴─┐      ░ └───┘└───┘└───┘└───┘└───┘ ░ └───┘└───┘ ░ ┌───┐┌───┐\n",
              "«  q1: ─────┤ X ├──────░───────────────────────────░────────────░─┤ H ├┤ X ├\n",
              "«           └───┘      ░                           ░            ░ └───┘└───┘"
            ],
            "text/html": [
              "<pre style=\"word-wrap: normal;white-space: pre;background: #fff0;line-height: 1.1;font-family: &quot;Courier New&quot;,Courier,monospace\">      ┌───┐      ░                 ░ ┌───┐┌───┐                ░ ┌───┐┌───┐»\n",
              "q0_0: ┤ H ├──────░────────■────────░─┤ H ├┤ X ├───────■────────░─┤ X ├┤ H ├»\n",
              "      ├───┤      ░ ┌───┐  │  ┌───┐ ░ ├───┤├───┤       │        ░ ├───┤├───┤»\n",
              "q0_1: ┤ H ├──────░─┤ X ├──■──┤ X ├─░─┤ H ├┤ X ├───────■────────░─┤ X ├┤ H ├»\n",
              "      ├───┤      ░ └───┘  │  └───┘ ░ ├───┤├───┤┌───┐┌─┴─┐┌───┐ ░ ├───┤├───┤»\n",
              "q0_2: ┤ H ├──────░────────■────────░─┤ H ├┤ X ├┤ H ├┤ X ├┤ H ├─░─┤ X ├┤ H ├»\n",
              "      ├───┤┌───┐ ░      ┌─┴─┐      ░ └───┘└───┘└───┘└───┘└───┘ ░ └───┘└───┘»\n",
              "  q1: ┤ X ├┤ H ├─░──────┤ X ├──────░───────────────────────────░───────────»\n",
              "      └───┘└───┘ ░      └───┘      ░                           ░           »\n",
              "«                      ░ ┌───┐┌───┐                ░ ┌───┐┌───┐ ░           \n",
              "«q0_0: ───────■────────░─┤ H ├┤ X ├───────■────────░─┤ X ├┤ H ├─░───────────\n",
              "«      ┌───┐  │  ┌───┐ ░ ├───┤├───┤       │        ░ ├───┤├───┤ ░           \n",
              "«q0_1: ┤ X ├──■──┤ X ├─░─┤ H ├┤ X ├───────■────────░─┤ X ├┤ H ├─░───────────\n",
              "«      └───┘  │  └───┘ ░ ├───┤├───┤┌───┐┌─┴─┐┌───┐ ░ ├───┤├───┤ ░           \n",
              "«q0_2: ───────■────────░─┤ H ├┤ X ├┤ H ├┤ X ├┤ H ├─░─┤ X ├┤ H ├─░───────────\n",
              "«           ┌─┴─┐      ░ └───┘└───┘└───┘└───┘└───┘ ░ └───┘└───┘ ░ ┌───┐┌───┐\n",
              "«  q1: ─────┤ X ├──────░───────────────────────────░────────────░─┤ H ├┤ X ├\n",
              "«           └───┘      ░                           ░            ░ └───┘└───┘</pre>"
            ]
          },
          "metadata": {},
          "execution_count": 11
        }
      ]
    },
    {
      "cell_type": "code",
      "source": [
        "grover_circuit.measure_all()"
      ],
      "metadata": {
        "id": "xXSVM6BHIlyN"
      },
      "execution_count": 12,
      "outputs": []
    },
    {
      "cell_type": "code",
      "source": [
        "aer_sim = Aer.get_backend('aer_simulator')\n",
        "transpiled_grover_circuit = transpile(grover_circuit, aer_sim)\n",
        "qobj = assemble(transpiled_grover_circuit)\n",
        "results = aer_sim.run(qobj).result()\n",
        "counts = results.get_counts()\n",
        "plot_histogram(counts)\n",
        "\n",
        "# ADD EXTRA CODE, H Gates, INITIALISE, ORACLE, DIFFUSER, ORACLE, DIFFUSER, MEASURE\n",
        "\n"
      ],
      "metadata": {
        "colab": {
          "base_uri": "https://localhost:8080/",
          "height": 348
        },
        "id": "cTU513ES5OVA",
        "outputId": "4a611d84-870c-40ad-dddd-f3b9a3d2ce29"
      },
      "execution_count": 13,
      "outputs": [
        {
          "output_type": "execute_result",
          "data": {
            "text/plain": [
              "<Figure size 504x360 with 1 Axes>"
            ],
            "image/png": "[encoded data removed]"
          },
          "metadata": {},
          "execution_count": 13
        }
      ]
    },
    {
      "cell_type": "markdown",
      "source": [
        "#Q1 b"
      ],
      "metadata": {
        "id": "nMeA_zH9_CiP"
      }
    },
    {
      "cell_type": "code",
      "source": [
        "# Initialise\n",
        "n = 3\n",
        "grover_circuit = QuantumCircuit(QuantumRegister(n), QuantumRegister(1))\n",
        "# initialise 1st register to + state\n",
        "grover_circuit = initialise(grover_circuit, [0, 1, 2])\n",
        "\n",
        "# INITIALISE ANCILLA TO MINUS STATE\n",
        "grover_circuit.x(3)\n",
        "grover_circuit.h(3)\n",
        "\n",
        "grover_circuit.barrier()\n",
        "grover_circuit.draw()"
      ],
      "metadata": {
        "id": "dE-W-kcy_GGn"
      },
      "execution_count": null,
      "outputs": []
    },
    {
      "cell_type": "code",
      "source": [
        "oracle = oracle2()\n",
        "oracle.draw()"
      ],
      "metadata": {
        "id": "xY4I7RFbKK71"
      },
      "execution_count": null,
      "outputs": []
    },
    {
      "cell_type": "code",
      "source": [
        "grover_circuit = grover_circuit.compose(oracle)\n",
        "grover_circuit.barrier()\n",
        "grover_circuit = grover_circuit.compose(dif)\n",
        "\n",
        "# grover_circuit = grover_circuit.compose(oracle)\n",
        "# grover_circuit = grover_circuit.compose(dif)\n",
        "grover_circuit.draw()"
      ],
      "metadata": {
        "id": "1_KU_Mrjbf8S"
      },
      "execution_count": null,
      "outputs": []
    },
    {
      "cell_type": "code",
      "source": [
        "# Convert ancilla to computational basis for measurement\n",
        "grover_circuit.barrier()\n",
        "grover_circuit.h(3)\n",
        "grover_circuit.x(3)\n",
        "grover_circuit.draw()"
      ],
      "metadata": {
        "colab": {
          "base_uri": "https://localhost:8080/",
          "height": 294
        },
        "id": "L2o0mDbpbs_v",
        "outputId": "b8b08896-ec87-4e79-bd4d-d3caeb2b4bbe"
      },
      "execution_count": 16,
      "outputs": [
        {
          "output_type": "execute_result",
          "data": {
            "text/plain": [
              "       ┌───┐      ░           ┌───┐     ┌───┐ ░ ┌───┐┌───┐                ░ »\n",
              "q12_0: ┤ H ├──────░────────■──┤ X ├──■──┤ X ├─░─┤ H ├┤ X ├───────■────────░─»\n",
              "       ├───┤      ░ ┌───┐  │  ├───┤  │  └───┘ ░ ├───┤├───┤       │        ░ »\n",
              "q12_1: ┤ H ├──────░─┤ X ├──■──┤ X ├──■────────░─┤ H ├┤ X ├───────■────────░─»\n",
              "       ├───┤      ░ └───┘  │  └───┘  │        ░ ├───┤├───┤┌───┐┌─┴─┐┌───┐ ░ »\n",
              "q12_2: ┤ H ├──────░────────■─────────■────────░─┤ H ├┤ X ├┤ H ├┤ X ├┤ H ├─░─»\n",
              "       ├───┤┌───┐ ░      ┌─┴─┐     ┌─┴─┐      ░ └───┘└───┘└───┘└───┘└───┘ ░ »\n",
              "  q13: ┤ X ├┤ H ├─░──────┤ X ├─────┤ X ├──────░───────────────────────────░─»\n",
              "       └───┘└───┘ ░      └───┘     └───┘      ░                           ░ »\n",
              "«       ┌───┐┌───┐ ░           \n",
              "«q12_0: ┤ X ├┤ H ├─░───────────\n",
              "«       ├───┤├───┤ ░           \n",
              "«q12_1: ┤ X ├┤ H ├─░───────────\n",
              "«       ├───┤├───┤ ░           \n",
              "«q12_2: ┤ X ├┤ H ├─░───────────\n",
              "«       └───┘└───┘ ░ ┌───┐┌───┐\n",
              "«  q13: ───────────░─┤ H ├┤ X ├\n",
              "«                  ░ └───┘└───┘"
            ],
            "text/html": [
              "<pre style=\"word-wrap: normal;white-space: pre;background: #fff0;line-height: 1.1;font-family: &quot;Courier New&quot;,Courier,monospace\">       ┌───┐      ░           ┌───┐     ┌───┐ ░ ┌───┐┌───┐                ░ »\n",
              "q12_0: ┤ H ├──────░────────■──┤ X ├──■──┤ X ├─░─┤ H ├┤ X ├───────■────────░─»\n",
              "       ├───┤      ░ ┌───┐  │  ├───┤  │  └───┘ ░ ├───┤├───┤       │        ░ »\n",
              "q12_1: ┤ H ├──────░─┤ X ├──■──┤ X ├──■────────░─┤ H ├┤ X ├───────■────────░─»\n",
              "       ├───┤      ░ └───┘  │  └───┘  │        ░ ├───┤├───┤┌───┐┌─┴─┐┌───┐ ░ »\n",
              "q12_2: ┤ H ├──────░────────■─────────■────────░─┤ H ├┤ X ├┤ H ├┤ X ├┤ H ├─░─»\n",
              "       ├───┤┌───┐ ░      ┌─┴─┐     ┌─┴─┐      ░ └───┘└───┘└───┘└───┘└───┘ ░ »\n",
              "  q13: ┤ X ├┤ H ├─░──────┤ X ├─────┤ X ├──────░───────────────────────────░─»\n",
              "       └───┘└───┘ ░      └───┘     └───┘      ░                           ░ »\n",
              "«       ┌───┐┌───┐ ░           \n",
              "«q12_0: ┤ X ├┤ H ├─░───────────\n",
              "«       ├───┤├───┤ ░           \n",
              "«q12_1: ┤ X ├┤ H ├─░───────────\n",
              "«       ├───┤├───┤ ░           \n",
              "«q12_2: ┤ X ├┤ H ├─░───────────\n",
              "«       └───┘└───┘ ░ ┌───┐┌───┐\n",
              "«  q13: ───────────░─┤ H ├┤ X ├\n",
              "«                  ░ └───┘└───┘</pre>"
            ]
          },
          "metadata": {},
          "execution_count": 16
        }
      ]
    },
    {
      "cell_type": "code",
      "source": [
        "grover_circuit.measure_all()"
      ],
      "metadata": {
        "id": "XMXRg8sScSyA"
      },
      "execution_count": 17,
      "outputs": []
    },
    {
      "cell_type": "code",
      "source": [
        "aer_sim = Aer.get_backend('aer_simulator')\n",
        "transpiled_grover_circuit = transpile(grover_circuit, aer_sim)\n",
        "qobj = assemble(transpiled_grover_circuit)\n",
        "results = aer_sim.run(qobj).result()\n",
        "counts = results.get_counts()\n",
        "plot_histogram(counts)"
      ],
      "metadata": {
        "colab": {
          "base_uri": "https://localhost:8080/",
          "height": 348
        },
        "id": "g99GquF0buKT",
        "outputId": "f5f8c56e-f31e-4c15-cf14-f2b76abec0ad"
      },
      "execution_count": 18,
      "outputs": [
        {
          "output_type": "execute_result",
          "data": {
            "text/plain": [
              "<Figure size 504x360 with 1 Axes>"
            ],
            "image/png": "[encoded data removed]"
          },
          "metadata": {},
          "execution_count": 18
        }
      ]
    },
    {
      "cell_type": "markdown",
      "source": [
        "#Q2"
      ],
      "metadata": {
        "id": "cpEcvdCyKLTf"
      }
    },
    {
      "cell_type": "code",
      "source": [
        "from typing import List\n",
        "import numpy as np\n",
        "from qiskit import QuantumCircuit, QuantumRegister, ClassicalRegister\n",
        "\n",
        "\n",
        "def qram(data: List) -> QuantumCircuit:\n",
        "    \"\"\"A naive implementation of QRAM for assigment 3 Q1 (c).\n",
        "    Given the data list, it prepares the state \\sum_x |x>|D(x)>,\n",
        "    where the |x> is the address (index) and |D(x)> is the data in the corresponding address,\n",
        "    e,g, if the list is [3, 5, 1], then the state is (|0>|3> + |1>|5> + |2>|1>) / sqrt(3).\n",
        "\n",
        "    Note: this function will note construct the superposition of address register,\n",
        "    remember to apply H gates by yourself.\n",
        "\n",
        "    Args:\n",
        "        data: The Python List object of the data you want to search.\n",
        "\n",
        "    Returns:\n",
        "        circuit: QuantumCircuit for QRAM.\n",
        "    \"\"\"\n",
        "    num_addr_bits = int(np.ceil(np.log2(len(data))))\n",
        "    num_data_bits = int(np.ceil(np.log2(max(data))))\n",
        "    address_reg = QuantumRegister(num_addr_bits)\n",
        "    data_reg = QuantumRegister(num_data_bits)\n",
        "    circuit = QuantumCircuit(address_reg, data_reg, name='QRAM')\n",
        "    \n",
        "    for id_addr in range(len(data)):\n",
        "        # load address index\n",
        "        id_str = format(id_addr, 'b').zfill(len(address_reg))\n",
        "        for i_id_str, b_id_str in enumerate(id_str):\n",
        "            if b_id_str == '0': circuit.x(address_reg[i_id_str])\n",
        "        # load data\n",
        "        data_str = format(data[id_addr], 'b').zfill(len(data_reg))\n",
        "        for i_data_str, b_data_str in enumerate(data_str):\n",
        "            if b_data_str == '1': circuit.mct(address_reg, data_reg[i_data_str])\n",
        "\n",
        "        for i_id_str, b_id_str in enumerate(id_str):\n",
        "            if b_id_str == '0': circuit.x(address_reg[i_id_str])\n",
        "        circuit.barrier()\n",
        "    return circuit\n",
        "\n",
        "\n",
        "def oracle_c(num_data: int) -> QuantumCircuit:\n",
        "    \"\"\"Oracle for assignment 3 Q1 (c).\n",
        "    This oracle is used for determining if the data == 5, not the index.\n",
        "\n",
        "    Args:\n",
        "        num_data: Number of qubits in data register.\n",
        "\n",
        "    Returns:\n",
        "        Oracle circuit.\n",
        "    \"\"\"\n",
        "    data_reg = QuantumRegister(num_data)\n",
        "    ancilla = QuantumRegister(1)\n",
        "    circuit = QuantumCircuit(data_reg, ancilla, name='Oracle')\n",
        "    \n",
        "    circuit.x(data_reg[1])\n",
        "    circuit.mcx(data_reg, ancilla)\n",
        "    circuit.x(data_reg[1])\n",
        "    return circuit"
      ],
      "metadata": {
        "id": "PA7mAwb1KOEg"
      },
      "execution_count": 14,
      "outputs": []
    },
    {
      "cell_type": "code",
      "source": [
        "ram = qram([5, 2, 4, 5, 3, 7, 6, 1])\n",
        "ram.add_register(QuantumRegister(1))\n",
        "ram.draw()"
      ],
      "metadata": {
        "id": "agH0A7PzKQ3i"
      },
      "execution_count": null,
      "outputs": []
    },
    {
      "cell_type": "code",
      "source": [
        "grover_circuit.clear()\n",
        "# Initialise grover circuit\n",
        "n = 3\n",
        "\n",
        "addr_qbits = QuantumRegister(n)\n",
        "data_qbits = QuantumRegister(3)\n",
        "ancilla = QuantumRegister(1)\n",
        "grover_circuit = QuantumCircuit(addr_qbits, data_qbits, ancilla)\n",
        "# initialise 1st register to + state\n",
        "\n",
        "\n",
        "grover_circuit = initialise(grover_circuit, [0, 1, 2])\n",
        "# INITIALISE ANCILLA TO MINUS STATE\n",
        "grover_circuit.x(6)\n",
        "grover_circuit.h(6)\n",
        "\n",
        "grover_circuit.barrier()\n",
        "\n",
        "grover_circuit = grover_circuit.compose(ram)\n",
        "grover_circuit.draw()"
      ],
      "metadata": {
        "id": "-i8wN226hqQI"
      },
      "execution_count": null,
      "outputs": []
    },
    {
      "cell_type": "code",
      "source": [
        "oracle = oracle_c(3)\n",
        "oracle.draw()"
      ],
      "metadata": {
        "colab": {
          "base_uri": "https://localhost:8080/",
          "height": 156
        },
        "id": "W2oI69-ehVVg",
        "outputId": "d75d7457-2e2d-48c3-b6b5-1d574583d39e"
      },
      "execution_count": 25,
      "outputs": [
        {
          "output_type": "execute_result",
          "data": {
            "text/plain": [
              "                      \n",
              "q37_0: ───────■───────\n",
              "       ┌───┐  │  ┌───┐\n",
              "q37_1: ┤ X ├──■──┤ X ├\n",
              "       └───┘  │  └───┘\n",
              "q37_2: ───────■───────\n",
              "            ┌─┴─┐     \n",
              "  q38: ─────┤ X ├─────\n",
              "            └───┘     "
            ],
            "text/html": [
              "<pre style=\"word-wrap: normal;white-space: pre;background: #fff0;line-height: 1.1;font-family: &quot;Courier New&quot;,Courier,monospace\">                      \n",
              "q37_0: ───────■───────\n",
              "       ┌───┐  │  ┌───┐\n",
              "q37_1: ┤ X ├──■──┤ X ├\n",
              "       └───┘  │  └───┘\n",
              "q37_2: ───────■───────\n",
              "            ┌─┴─┐     \n",
              "  q38: ─────┤ X ├─────\n",
              "            └───┘     </pre>"
            ]
          },
          "metadata": {},
          "execution_count": 25
        }
      ]
    },
    {
      "cell_type": "code",
      "source": [
        "grover_circuit = grover_circuit.compose(oracle, qubits=[3, 4, 5, 6])\n",
        "grover_circuit.barrier()\n",
        "grover_circuit = grover_circuit.compose(ram)\n",
        "grover_circuit.barrier()\n",
        "grover_circuit = grover_circuit.compose(dif, qubits=[0, 1, 2, 6])\n",
        "grover_circuit.draw()"
      ],
      "metadata": {
        "id": "XXEEFzOliHVo"
      },
      "execution_count": null,
      "outputs": []
    },
    {
      "cell_type": "code",
      "source": [
        "grover_circuit.barrier()\n",
        "grover_circuit.h(6)\n",
        "grover_circuit.x(6)\n",
        "grover_circuit.draw()"
      ],
      "metadata": {
        "colab": {
          "base_uri": "https://localhost:8080/",
          "height": 1403
        },
        "id": "SXhUFYRtjiFo",
        "outputId": "fe50c961-0d49-42af-9e0d-485051f2ccf7"
      },
      "execution_count": 29,
      "outputs": [
        {
          "output_type": "execute_result",
          "data": {
            "text/plain": [
              "       ┌───┐      ░ ┌───┐          ┌───┐ ░ ┌───┐     ┌───┐ ░ ┌───┐     ┌───┐ ░ »\n",
              "q39_0: ┤ H ├──────░─┤ X ├──■────■──┤ X ├─░─┤ X ├──■──┤ X ├─░─┤ X ├──■──┤ X ├─░─»\n",
              "       ├───┤      ░ ├───┤  │    │  ├───┤ ░ ├───┤  │  ├───┤ ░ └───┘  │  └───┘ ░ »\n",
              "q39_1: ┤ H ├──────░─┤ X ├──■────■──┤ X ├─░─┤ X ├──■──┤ X ├─░────────■────────░─»\n",
              "       ├───┤      ░ ├───┤  │    │  ├───┤ ░ └───┘  │  └───┘ ░ ┌───┐  │  ┌───┐ ░ »\n",
              "q39_2: ┤ H ├──────░─┤ X ├──■────■──┤ X ├─░────────■────────░─┤ X ├──■──┤ X ├─░─»\n",
              "       └───┘      ░ └───┘┌─┴─┐  │  └───┘ ░        │        ░ └───┘┌─┴─┐└───┘ ░ »\n",
              "q40_0: ───────────░──────┤ X ├──┼────────░────────┼────────░──────┤ X ├──────░─»\n",
              "                  ░      └───┘  │        ░      ┌─┴─┐      ░      └───┘      ░ »\n",
              "q40_1: ───────────░─────────────┼────────░──────┤ X ├──────░─────────────────░─»\n",
              "                  ░           ┌─┴─┐      ░      └───┘      ░                 ░ »\n",
              "q40_2: ───────────░───────────┤ X ├──────░─────────────────░─────────────────░─»\n",
              "       ┌───┐┌───┐ ░           └───┘      ░                 ░                 ░ »\n",
              "  q41: ┤ X ├┤ H ├─░────────────────────────────────────────────────────────────»\n",
              "       └───┘└───┘ ░                                                            »\n",
              "«       ┌───┐          ┌───┐ ░                      ░                          »\n",
              "«q39_0: ┤ X ├──■────■──┤ X ├─░────────■────■────────░────────■────■────■───────»\n",
              "«       └───┘  │    │  └───┘ ░ ┌───┐  │    │  ┌───┐ ░ ┌───┐  │    │    │  ┌───┐»\n",
              "«q39_1: ───────■────■────────░─┤ X ├──■────■──┤ X ├─░─┤ X ├──■────■────■──┤ X ├»\n",
              "«              │    │        ░ ├───┤  │    │  ├───┤ ░ └───┘  │    │    │  └───┘»\n",
              "«q39_2: ───────■────■────────░─┤ X ├──■────■──┤ X ├─░────────■────■────■───────»\n",
              "«            ┌─┴─┐  │        ░ └───┘  │    │  └───┘ ░      ┌─┴─┐  │    │       »\n",
              "«q40_0: ─────┤ X ├──┼────────░────────┼────┼────────░──────┤ X ├──┼────┼───────»\n",
              "«            └───┘  │        ░      ┌─┴─┐  │        ░      └───┘┌─┴─┐  │       »\n",
              "«q40_1: ────────────┼────────░──────┤ X ├──┼────────░───────────┤ X ├──┼───────»\n",
              "«                 ┌─┴─┐      ░      └───┘┌─┴─┐      ░           └───┘┌─┴─┐     »\n",
              "«q40_2: ──────────┤ X ├──────░───────────┤ X ├──────░────────────────┤ X ├─────»\n",
              "«                 └───┘      ░           └───┘      ░                └───┘     »\n",
              "«  q41: ───────────────────────────────────────────────────────────────────────»\n",
              "«                                                                              »\n",
              "«        ░                      ░       ░                 ░ ┌───┐          »\n",
              "«q39_0: ─░────────■────■────────░───■───░─────────────────░─┤ X ├──■────■──»\n",
              "«        ░        │    │        ░   │   ░                 ░ ├───┤  │    │  »\n",
              "«q39_1: ─░────────■────■────────░───■───░─────────────────░─┤ X ├──■────■──»\n",
              "«        ░ ┌───┐  │    │  ┌───┐ ░   │   ░                 ░ ├───┤  │    │  »\n",
              "«q39_2: ─░─┤ X ├──■────■──┤ X ├─░───■───░─────────────────░─┤ X ├──■────■──»\n",
              "«        ░ └───┘┌─┴─┐  │  └───┘ ░   │   ░                 ░ └───┘┌─┴─┐  │  »\n",
              "«q40_0: ─░──────┤ X ├──┼────────░───┼───░────────■────────░──────┤ X ├──┼──»\n",
              "«        ░      └───┘┌─┴─┐      ░   │   ░ ┌───┐  │  ┌───┐ ░      └───┘  │  »\n",
              "«q40_1: ─░───────────┤ X ├──────░───┼───░─┤ X ├──■──┤ X ├─░─────────────┼──»\n",
              "«        ░           └───┘      ░ ┌─┴─┐ ░ └───┘  │  └───┘ ░           ┌─┴─┐»\n",
              "«q40_2: ─░──────────────────────░─┤ X ├─░────────■────────░───────────┤ X ├»\n",
              "«        ░                      ░ └───┘ ░      ┌─┴─┐      ░           └───┘»\n",
              "«  q41: ───────────────────────────────────────┤ X ├──────░────────────────»\n",
              "«                                              └───┘      ░                »\n",
              "«       ┌───┐ ░ ┌───┐     ┌───┐ ░ ┌───┐     ┌───┐ ░ ┌───┐          ┌───┐ ░ »\n",
              "«q39_0: ┤ X ├─░─┤ X ├──■──┤ X ├─░─┤ X ├──■──┤ X ├─░─┤ X ├──■────■──┤ X ├─░─»\n",
              "«       ├───┤ ░ ├───┤  │  ├───┤ ░ └───┘  │  └───┘ ░ └───┘  │    │  └───┘ ░ »\n",
              "«q39_1: ┤ X ├─░─┤ X ├──■──┤ X ├─░────────■────────░────────■────■────────░─»\n",
              "«       ├───┤ ░ └───┘  │  └───┘ ░ ┌───┐  │  ┌───┐ ░        │    │        ░ »\n",
              "«q39_2: ┤ X ├─░────────■────────░─┤ X ├──■──┤ X ├─░────────■────■────────░─»\n",
              "«       └───┘ ░        │        ░ └───┘┌─┴─┐└───┘ ░      ┌─┴─┐  │        ░ »\n",
              "«q40_0: ──────░────────┼────────░──────┤ X ├──────░──────┤ X ├──┼────────░─»\n",
              "«             ░      ┌─┴─┐      ░      └───┘      ░      └───┘  │        ░ »\n",
              "«q40_1: ──────░──────┤ X ├──────░─────────────────░─────────────┼────────░─»\n",
              "«             ░      └───┘      ░                 ░           ┌─┴─┐      ░ »\n",
              "«q40_2: ──────░─────────────────░─────────────────░───────────┤ X ├──────░─»\n",
              "«             ░                 ░                 ░           └───┘      ░ »\n",
              "«  q41: ───────────────────────────────────────────────────────────────────»\n",
              "«                                                                          »\n",
              "«                            ░                           ░                     »\n",
              "«q39_0: ───────■────■────────░────────■────■────■────────░────────■────■───────»\n",
              "«       ┌───┐  │    │  ┌───┐ ░ ┌───┐  │    │    │  ┌───┐ ░        │    │       »\n",
              "«q39_1: ┤ X ├──■────■──┤ X ├─░─┤ X ├──■────■────■──┤ X ├─░────────■────■───────»\n",
              "«       ├───┤  │    │  ├───┤ ░ └───┘  │    │    │  └───┘ ░ ┌───┐  │    │  ┌───┐»\n",
              "«q39_2: ┤ X ├──■────■──┤ X ├─░────────■────■────■────────░─┤ X ├──■────■──┤ X ├»\n",
              "«       └───┘  │    │  └───┘ ░      ┌─┴─┐  │    │        ░ └───┘┌─┴─┐  │  └───┘»\n",
              "«q40_0: ───────┼────┼────────░──────┤ X ├──┼────┼────────░──────┤ X ├──┼───────»\n",
              "«            ┌─┴─┐  │        ░      └───┘┌─┴─┐  │        ░      └───┘┌─┴─┐     »\n",
              "«q40_1: ─────┤ X ├──┼────────░───────────┤ X ├──┼────────░───────────┤ X ├─────»\n",
              "«            └───┘┌─┴─┐      ░           └───┘┌─┴─┐      ░           └───┘     »\n",
              "«q40_2: ──────────┤ X ├──────░────────────────┤ X ├──────░─────────────────────»\n",
              "«                 └───┘      ░                └───┘      ░                     »\n",
              "«  q41: ───────────────────────────────────────────────────────────────────────»\n",
              "«                                                                              »\n",
              "«        ░       ░  ░ ┌───┐┌───┐                ░ ┌───┐┌───┐ ░           \n",
              "«q39_0: ─░───■───░──░─┤ H ├┤ X ├───────■────────░─┤ X ├┤ H ├─░───────────\n",
              "«        ░   │   ░  ░ ├───┤├───┤       │        ░ ├───┤├───┤ ░           \n",
              "«q39_1: ─░───■───░──░─┤ H ├┤ X ├───────■────────░─┤ X ├┤ H ├─░───────────\n",
              "«        ░   │   ░  ░ ├───┤├───┤┌───┐┌─┴─┐┌───┐ ░ ├───┤├───┤ ░           \n",
              "«q39_2: ─░───■───░──░─┤ H ├┤ X ├┤ H ├┤ X ├┤ H ├─░─┤ X ├┤ H ├─░───────────\n",
              "«        ░   │   ░  ░ └───┘└───┘└───┘└───┘└───┘ ░ └───┘└───┘ ░           \n",
              "«q40_0: ─░───┼───░──░────────────────────────────────────────░───────────\n",
              "«        ░   │   ░  ░                                        ░           \n",
              "«q40_1: ─░───┼───░──░────────────────────────────────────────░───────────\n",
              "«        ░ ┌─┴─┐ ░  ░                                        ░           \n",
              "«q40_2: ─░─┤ X ├─░──░────────────────────────────────────────░───────────\n",
              "«        ░ └───┘ ░  ░                           ░            ░ ┌───┐┌───┐\n",
              "«  q41: ────────────░───────────────────────────░────────────░─┤ H ├┤ X ├\n",
              "«                   ░                           ░            ░ └───┘└───┘"
            ],
            "text/html": [
              "<pre style=\"word-wrap: normal;white-space: pre;background: #fff0;line-height: 1.1;font-family: &quot;Courier New&quot;,Courier,monospace\">       ┌───┐      ░ ┌───┐          ┌───┐ ░ ┌───┐     ┌───┐ ░ ┌───┐     ┌───┐ ░ »\n",
              "q39_0: ┤ H ├──────░─┤ X ├──■────■──┤ X ├─░─┤ X ├──■──┤ X ├─░─┤ X ├──■──┤ X ├─░─»\n",
              "       ├───┤      ░ ├───┤  │    │  ├───┤ ░ ├───┤  │  ├───┤ ░ └───┘  │  └───┘ ░ »\n",
              "q39_1: ┤ H ├──────░─┤ X ├──■────■──┤ X ├─░─┤ X ├──■──┤ X ├─░────────■────────░─»\n",
              "       ├───┤      ░ ├───┤  │    │  ├───┤ ░ └───┘  │  └───┘ ░ ┌───┐  │  ┌───┐ ░ »\n",
              "q39_2: ┤ H ├──────░─┤ X ├──■────■──┤ X ├─░────────■────────░─┤ X ├──■──┤ X ├─░─»\n",
              "       └───┘      ░ └───┘┌─┴─┐  │  └───┘ ░        │        ░ └───┘┌─┴─┐└───┘ ░ »\n",
              "q40_0: ───────────░──────┤ X ├──┼────────░────────┼────────░──────┤ X ├──────░─»\n",
              "                  ░      └───┘  │        ░      ┌─┴─┐      ░      └───┘      ░ »\n",
              "q40_1: ───────────░─────────────┼────────░──────┤ X ├──────░─────────────────░─»\n",
              "                  ░           ┌─┴─┐      ░      └───┘      ░                 ░ »\n",
              "q40_2: ───────────░───────────┤ X ├──────░─────────────────░─────────────────░─»\n",
              "       ┌───┐┌───┐ ░           └───┘      ░                 ░                 ░ »\n",
              "  q41: ┤ X ├┤ H ├─░────────────────────────────────────────────────────────────»\n",
              "       └───┘└───┘ ░                                                            »\n",
              "«       ┌───┐          ┌───┐ ░                      ░                          »\n",
              "«q39_0: ┤ X ├──■────■──┤ X ├─░────────■────■────────░────────■────■────■───────»\n",
              "«       └───┘  │    │  └───┘ ░ ┌───┐  │    │  ┌───┐ ░ ┌───┐  │    │    │  ┌───┐»\n",
              "«q39_1: ───────■────■────────░─┤ X ├──■────■──┤ X ├─░─┤ X ├──■────■────■──┤ X ├»\n",
              "«              │    │        ░ ├───┤  │    │  ├───┤ ░ └───┘  │    │    │  └───┘»\n",
              "«q39_2: ───────■────■────────░─┤ X ├──■────■──┤ X ├─░────────■────■────■───────»\n",
              "«            ┌─┴─┐  │        ░ └───┘  │    │  └───┘ ░      ┌─┴─┐  │    │       »\n",
              "«q40_0: ─────┤ X ├──┼────────░────────┼────┼────────░──────┤ X ├──┼────┼───────»\n",
              "«            └───┘  │        ░      ┌─┴─┐  │        ░      └───┘┌─┴─┐  │       »\n",
              "«q40_1: ────────────┼────────░──────┤ X ├──┼────────░───────────┤ X ├──┼───────»\n",
              "«                 ┌─┴─┐      ░      └───┘┌─┴─┐      ░           └───┘┌─┴─┐     »\n",
              "«q40_2: ──────────┤ X ├──────░───────────┤ X ├──────░────────────────┤ X ├─────»\n",
              "«                 └───┘      ░           └───┘      ░                └───┘     »\n",
              "«  q41: ───────────────────────────────────────────────────────────────────────»\n",
              "«                                                                              »\n",
              "«        ░                      ░       ░                 ░ ┌───┐          »\n",
              "«q39_0: ─░────────■────■────────░───■───░─────────────────░─┤ X ├──■────■──»\n",
              "«        ░        │    │        ░   │   ░                 ░ ├───┤  │    │  »\n",
              "«q39_1: ─░────────■────■────────░───■───░─────────────────░─┤ X ├──■────■──»\n",
              "«        ░ ┌───┐  │    │  ┌───┐ ░   │   ░                 ░ ├───┤  │    │  »\n",
              "«q39_2: ─░─┤ X ├──■────■──┤ X ├─░───■───░─────────────────░─┤ X ├──■────■──»\n",
              "«        ░ └───┘┌─┴─┐  │  └───┘ ░   │   ░                 ░ └───┘┌─┴─┐  │  »\n",
              "«q40_0: ─░──────┤ X ├──┼────────░───┼───░────────■────────░──────┤ X ├──┼──»\n",
              "«        ░      └───┘┌─┴─┐      ░   │   ░ ┌───┐  │  ┌───┐ ░      └───┘  │  »\n",
              "«q40_1: ─░───────────┤ X ├──────░───┼───░─┤ X ├──■──┤ X ├─░─────────────┼──»\n",
              "«        ░           └───┘      ░ ┌─┴─┐ ░ └───┘  │  └───┘ ░           ┌─┴─┐»\n",
              "«q40_2: ─░──────────────────────░─┤ X ├─░────────■────────░───────────┤ X ├»\n",
              "«        ░                      ░ └───┘ ░      ┌─┴─┐      ░           └───┘»\n",
              "«  q41: ───────────────────────────────────────┤ X ├──────░────────────────»\n",
              "«                                              └───┘      ░                »\n",
              "«       ┌───┐ ░ ┌───┐     ┌───┐ ░ ┌───┐     ┌───┐ ░ ┌───┐          ┌───┐ ░ »\n",
              "«q39_0: ┤ X ├─░─┤ X ├──■──┤ X ├─░─┤ X ├──■──┤ X ├─░─┤ X ├──■────■──┤ X ├─░─»\n",
              "«       ├───┤ ░ ├───┤  │  ├───┤ ░ └───┘  │  └───┘ ░ └───┘  │    │  └───┘ ░ »\n",
              "«q39_1: ┤ X ├─░─┤ X ├──■──┤ X ├─░────────■────────░────────■────■────────░─»\n",
              "«       ├───┤ ░ └───┘  │  └───┘ ░ ┌───┐  │  ┌───┐ ░        │    │        ░ »\n",
              "«q39_2: ┤ X ├─░────────■────────░─┤ X ├──■──┤ X ├─░────────■────■────────░─»\n",
              "«       └───┘ ░        │        ░ └───┘┌─┴─┐└───┘ ░      ┌─┴─┐  │        ░ »\n",
              "«q40_0: ──────░────────┼────────░──────┤ X ├──────░──────┤ X ├──┼────────░─»\n",
              "«             ░      ┌─┴─┐      ░      └───┘      ░      └───┘  │        ░ »\n",
              "«q40_1: ──────░──────┤ X ├──────░─────────────────░─────────────┼────────░─»\n",
              "«             ░      └───┘      ░                 ░           ┌─┴─┐      ░ »\n",
              "«q40_2: ──────░─────────────────░─────────────────░───────────┤ X ├──────░─»\n",
              "«             ░                 ░                 ░           └───┘      ░ »\n",
              "«  q41: ───────────────────────────────────────────────────────────────────»\n",
              "«                                                                          »\n",
              "«                            ░                           ░                     »\n",
              "«q39_0: ───────■────■────────░────────■────■────■────────░────────■────■───────»\n",
              "«       ┌───┐  │    │  ┌───┐ ░ ┌───┐  │    │    │  ┌───┐ ░        │    │       »\n",
              "«q39_1: ┤ X ├──■────■──┤ X ├─░─┤ X ├──■────■────■──┤ X ├─░────────■────■───────»\n",
              "«       ├───┤  │    │  ├───┤ ░ └───┘  │    │    │  └───┘ ░ ┌───┐  │    │  ┌───┐»\n",
              "«q39_2: ┤ X ├──■────■──┤ X ├─░────────■────■────■────────░─┤ X ├──■────■──┤ X ├»\n",
              "«       └───┘  │    │  └───┘ ░      ┌─┴─┐  │    │        ░ └───┘┌─┴─┐  │  └───┘»\n",
              "«q40_0: ───────┼────┼────────░──────┤ X ├──┼────┼────────░──────┤ X ├──┼───────»\n",
              "«            ┌─┴─┐  │        ░      └───┘┌─┴─┐  │        ░      └───┘┌─┴─┐     »\n",
              "«q40_1: ─────┤ X ├──┼────────░───────────┤ X ├──┼────────░───────────┤ X ├─────»\n",
              "«            └───┘┌─┴─┐      ░           └───┘┌─┴─┐      ░           └───┘     »\n",
              "«q40_2: ──────────┤ X ├──────░────────────────┤ X ├──────░─────────────────────»\n",
              "«                 └───┘      ░                └───┘      ░                     »\n",
              "«  q41: ───────────────────────────────────────────────────────────────────────»\n",
              "«                                                                              »\n",
              "«        ░       ░  ░ ┌───┐┌───┐                ░ ┌───┐┌───┐ ░           \n",
              "«q39_0: ─░───■───░──░─┤ H ├┤ X ├───────■────────░─┤ X ├┤ H ├─░───────────\n",
              "«        ░   │   ░  ░ ├───┤├───┤       │        ░ ├───┤├───┤ ░           \n",
              "«q39_1: ─░───■───░──░─┤ H ├┤ X ├───────■────────░─┤ X ├┤ H ├─░───────────\n",
              "«        ░   │   ░  ░ ├───┤├───┤┌───┐┌─┴─┐┌───┐ ░ ├───┤├───┤ ░           \n",
              "«q39_2: ─░───■───░──░─┤ H ├┤ X ├┤ H ├┤ X ├┤ H ├─░─┤ X ├┤ H ├─░───────────\n",
              "«        ░   │   ░  ░ └───┘└───┘└───┘└───┘└───┘ ░ └───┘└───┘ ░           \n",
              "«q40_0: ─░───┼───░──░────────────────────────────────────────░───────────\n",
              "«        ░   │   ░  ░                                        ░           \n",
              "«q40_1: ─░───┼───░──░────────────────────────────────────────░───────────\n",
              "«        ░ ┌─┴─┐ ░  ░                                        ░           \n",
              "«q40_2: ─░─┤ X ├─░──░────────────────────────────────────────░───────────\n",
              "«        ░ └───┘ ░  ░                           ░            ░ ┌───┐┌───┐\n",
              "«  q41: ────────────░───────────────────────────░────────────░─┤ H ├┤ X ├\n",
              "«                   ░                           ░            ░ └───┘└───┘</pre>"
            ]
          },
          "metadata": {},
          "execution_count": 29
        }
      ]
    },
    {
      "cell_type": "code",
      "source": [
        "# grover_circuit.measure(qubit=[3, 4, 5], cbit=[0, 1, 2])\n",
        "grover_circuit.measure_all()"
      ],
      "metadata": {
        "id": "BQZy_63iiovu"
      },
      "execution_count": 30,
      "outputs": []
    },
    {
      "cell_type": "code",
      "source": [
        "aer_sim = Aer.get_backend('aer_simulator')\n",
        "transpiled_grover_circuit = transpile(grover_circuit, aer_sim)\n",
        "qobj = assemble(transpiled_grover_circuit)\n",
        "results = aer_sim.run(qobj).result()\n",
        "counts = results.get_counts()\n",
        "plot_histogram(counts)"
      ],
      "metadata": {
        "colab": {
          "base_uri": "https://localhost:8080/",
          "height": 372
        },
        "id": "oBmeFS3hiozN",
        "outputId": "1d8ca6bf-229a-4f81-d172-5b58938865d2"
      },
      "execution_count": 31,
      "outputs": [
        {
          "output_type": "execute_result",
          "data": {
            "text/plain": [
              "<Figure size 504x360 with 1 Axes>"
            ],
            "image/png": "[encoded data removed]"
          },
          "metadata": {},
          "execution_count": 31
        }
      ]
    },
    {
      "cell_type": "markdown",
      "source": [
        "# Report"
      ],
      "metadata": {
        "id": "eJaN-7ifhh3l"
      }
    },
    {
      "cell_type": "markdown",
      "source": [
        "Q1 a) grover search is implemented by, initialising the 3 qubits in the + state (superposition). We then perform the oracle, to amplify the correct result. Then the diffuser to flip it back to positive. Then end result is the target 010 having greater amplitude than others. In 1a) i performed the oracle and diffuser twice to amplify the correct amplitude further improving the overall accuracy of the search."
      ],
      "metadata": {
        "id": "OSudfxAYhjxa"
      }
    },
    {
      "cell_type": "markdown",
      "source": [
        "Q1 b) Similar to a, however there are two targets as seen in the result. Unlike part a only one amplification was used and yielded results of 110, 101."
      ],
      "metadata": {
        "id": "WG_-JzIcilXj"
      }
    },
    {
      "cell_type": "markdown",
      "source": [
        "Q1 c)  General structure is the following, Initialise address register in + state, load the qram, perform oracle on data register (the register we are searching on for 5), load qram again, diffuse the address register (the register we are measuring), measure address register \n",
        "\n"
      ],
      "metadata": {
        "id": "gQvAEAL3j0WY"
      }
    }
  ]
}